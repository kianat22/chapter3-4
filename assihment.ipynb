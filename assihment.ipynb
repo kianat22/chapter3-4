{
  "nbformat": 4,
  "nbformat_minor": 0,
  "metadata": {
    "colab": {
      "provenance": [],
      "authorship_tag": "ABX9TyNNXM5anFCCUCnC8YIGQ9WR",
      "include_colab_link": true
    },
    "kernelspec": {
      "name": "python3",
      "display_name": "Python 3"
    },
    "language_info": {
      "name": "python"
    }
  },
  "cells": [
    {
      "cell_type": "markdown",
      "metadata": {
        "id": "view-in-github",
        "colab_type": "text"
      },
      "source": [
        "<a href=\"https://colab.research.google.com/github/kianat22/project/blob/main/assihment.ipynb\" target=\"_parent\"><img src=\"https://colab.research.google.com/assets/colab-badge.svg\" alt=\"Open In Colab\"/></a>"
      ]
    },
    {
      "cell_type": "markdown",
      "source": [],
      "metadata": {
        "id": "VcQSXoN9dj0v"
      }
    },
    {
      "cell_type": "markdown",
      "source": [
        "Excersice 3.4 Guest List: If you could invite anyone, living or deceased, to dinner, who would you invite? Make a list that includes at least three people you’d like to invite to dinner. Then use your list to print a message to each person, inviting them to dinner."
      ],
      "metadata": {
        "id": "gQvfyGykdnRg"
      }
    },
    {
      "cell_type": "code",
      "source": [
        "kianat_guests = [\"sana\", \"fizza\", \"aqsa\"];\n",
        "print(\"Hi \"+kianat_guests[0]+\", \"+kianat_guests[1]+\", \"+kianat_guests[2]+\", You all are invited for Dinner at my home.\")\n",
        "     "
      ],
      "metadata": {
        "colab": {
          "base_uri": "https://localhost:8080/"
        },
        "id": "J8H4My90du9p",
        "outputId": "1eed2d85-d46d-43f5-dce6-e177f55267c4"
      },
      "execution_count": 2,
      "outputs": [
        {
          "output_type": "stream",
          "name": "stdout",
          "text": [
            "Hi sana, fizza, aqsa, You all are invited for Dinner at my home.\n"
          ]
        }
      ]
    },
    {
      "cell_type": "markdown",
      "source": [
        "Excersice 3.5 Changing Guest List: You just heard that one of your guests can’t make the dinner, so you need to send out a new set of invitations. You’ll have to think of someone else to invite.\n",
        "\n",
        "Start with your program from Exercise 3-4. Add a print statement at the\n",
        "end of your program stating the name of the guest who can’t make it.\n",
        "\n",
        "Modify your list, replacing the name of the guest who can’t make it with\n",
        "the name of the new person you are inviting.\n",
        "\n",
        "Print a second set of invitation messages, one for each person who is still\n",
        "in your list."
      ],
      "metadata": {
        "id": "M_fUjIT-eONN"
      }
    },
    {
      "cell_type": "code",
      "source": [
        "kianat_guests = [\"sana\", \"fizza\", \"aqsa\"];\n",
        "print(kianat_guests[1]+\" Will not be able to join us for Dinner.\")\n",
        "\n",
        "kianat_guests[1] = 'username';\n",
        "print(\"Hi \"+kianat_guests[0]+\", You are invited for Dinner at Ramada on coming Sunday.\")\n",
        "print(\"Hi \"+kianat_guests[1]+\", You are invited for Dinner at Ramada on coming Sunday.\")\n",
        "print(\"Hi \"+kianat_guests[2]+\", You are invited for Dinner at Ramada on coming Sunday.\")\n"
      ],
      "metadata": {
        "colab": {
          "base_uri": "https://localhost:8080/"
        },
        "id": "XCOnBXa2eXVJ",
        "outputId": "3a7d4b6b-a389-4193-f078-94c9fbc5cf20"
      },
      "execution_count": 11,
      "outputs": [
        {
          "output_type": "stream",
          "name": "stdout",
          "text": [
            "fizza Will not be able to join us for Dinner.\n",
            "Hi sana, You are invited for Dinner at Ramada on coming Sunday.\n",
            "Hi username, You are invited for Dinner at Ramada on coming Sunday.\n",
            "Hi aqsa, You are invited for Dinner at Ramada on coming Sunday.\n"
          ]
        }
      ]
    },
    {
      "cell_type": "markdown",
      "source": [
        "Excersice 3.6 More Guests:: You just found a bigger dinner table, so now more space is available. Think of three more guests to invite to dinner.\n",
        "\n",
        "Start with your program from Exercise 3-4 or Exercise 3-5. Add a print\n",
        "statement to the end of your program informing people that you found a bigger dinner table.\n",
        "\n",
        "Use insert() to add one new guest to the beginning of your list\n",
        "Use insert() to add one new guest to the middle of your list.\n",
        "Use append() to add one new guest to the end of your list.\n",
        "Print a new set of invitation messages, one for each person in your list.a"
      ],
      "metadata": {
        "id": "2NCitV5HgoQV"
      }
    },
    {
      "cell_type": "code",
      "source": [
        "kianat_guests = [\"sana\", \"aqsa\", \"fizza\"];\n",
        "kianat_guests.insert(0, \"sana\");\n",
        "kianat_guests.insert(2, \"aqsa\");\n",
        "kianat_guests.append(\"fizza\");\n",
        "print(\"good evennig  everyone, we got a bigger table.\\n\"+kianat_guests[0]+\", \"+kianat_guests[1]+\", \"+kianat_guests[2]+\", \"+kianat_guests[3]+\", \"+kianat_guests[4]+\", \"+kianat_guests[5]+\", eyou all are invited at a time \")\n",
        "     "
      ],
      "metadata": {
        "colab": {
          "base_uri": "https://localhost:8080/"
        },
        "id": "71GbJ3c1gqHw",
        "outputId": "4b7aa364-04c5-4e79-83cf-3f2273144750"
      },
      "execution_count": 13,
      "outputs": [
        {
          "output_type": "stream",
          "name": "stdout",
          "text": [
            "good evennig  everyone, we got a bigger table.\n",
            "sana, sana, aqsa, aqsa, fizza, fizza, eyou all are invited at a time \n"
          ]
        }
      ]
    },
    {
      "cell_type": "markdown",
      "source": [
        "3-7: Shrinking Guest List\n",
        "You just found out that your new dinner table won’t arrive in time for the dinner, and you have space for only two guests.\n",
        "\n",
        "Start with your program from Exercise 3-6. Add a new line that prints a message saying that you can invite only two people for dinner.\n",
        "Use pop() to remove guests from your list one at a time until only two names remain in your list. Each time you pop a name from your list, print a message to that person letting them know you’re sorry you can’t invite them to dinner.\n",
        "Print a message to each of the two people still on your list, letting them know they’re still invited.\n",
        "Use del to remove the last two names from your list, so you have an empty list. Print your list to make sure you actually have an empty list at the end of your program."
      ],
      "metadata": {
        "id": "9sH0SmmdiVIm"
      }
    },
    {
      "cell_type": "code",
      "source": [
        "kianat_guests = [\"sana\", \"fizza\", \"aqsa\"];kianat_guests.insert(0, \"iqra\");\n",
        "kianat_guests.insert(2, \"zara\");\n",
        "kianat_guests.append(\"ayesha\");\n",
        "\n",
        "print(\"I'm sorry, we can only invite two people to dinner.\")\n",
        "removed1 = kianat_guests.pop(0)\n",
        "print(\"Hi \"+removed1+\", I'm sorry, but I can't have you for dinner.r\")\n",
        "removed2 = kianat_guests.pop(0)\n",
        "print(\"Hi \"+removed2+\",I'm sorry, but I can't have you for dinner.\")\n",
        "removed3 = kianat_guests.pop(0)\n",
        "print(\"Hi \"+removed3+\", I'm sorry, but I can't have you for dinner.\")\n",
        "removed4 = kianat_guests.pop(0)\n",
        "print(\"Hi \"+removed4+\", I'm sorry, but I can't have you for dinner.r\\n\")\n",
        "print(\"Hi \"+kianat_guests[0]+\", please come to dinner\")\n",
        "print(\"Hi \"+kianat_guests[1]+\" please come to diner\")\n",
        "\n",
        "del kianat_guests[0]\n",
        "del kianat_guests[0]\n",
        "print(kianat_guests)\n",
        "     "
      ],
      "metadata": {
        "colab": {
          "base_uri": "https://localhost:8080/"
        },
        "id": "PscBsaxLifVr",
        "outputId": "355db8c6-eaa0-4134-eb64-c7b30b480e4d"
      },
      "execution_count": 15,
      "outputs": [
        {
          "output_type": "stream",
          "name": "stdout",
          "text": [
            "I'm sorry, we can only invite two people to dinner.\n",
            "Hi iqra, I'm sorry, but I can't have you for dinner.r\n",
            "Hi sana,I'm sorry, but I can't have you for dinner.\n",
            "Hi zara, I'm sorry, but I can't have you for dinner.\n",
            "Hi fizza, I'm sorry, but I can't have you for dinner.r\n",
            "\n",
            "Hi aqsa, please come to dinner\n",
            "Hi ayesha please come to diner\n",
            "[]\n"
          ]
        }
      ]
    },
    {
      "cell_type": "markdown",
      "source": [
        "4-1. Pizzas: Think of at least three kinds of your favorite pizza. Store these pizza names in a list, and then use a for loop to print the name of each pizza. Modify your for loop to print a sentence using the name of the pizza.\n",
        "\n",
        "instead of printing just the name of the pizza. For each pizza you should\n",
        "have one line of output containing a simple statement like I like pepperoni pizza.\n",
        "\n",
        "Add a line at the end of your program, outside the for loop, that states\n",
        "how much you like pizza. The output should consist of three or more lines about the kinds of pizza you like and then an additional sentence, such as I really love pizza!"
      ],
      "metadata": {
        "id": "Rx-A4GdYv4Qp"
      }
    },
    {
      "cell_type": "code",
      "source": [
        "kianat_pizza_list = ['veggie', 'Margherita', 'Hawaiian']\n",
        "for pizza in kianat_pizza_list:\n",
        "  print(\"I Like \"+pizza+\" Pizza it's yummy.\")\n",
        "print(\"I  like  to eat pizza with coke, especially with friends.\")\n"
      ],
      "metadata": {
        "colab": {
          "base_uri": "https://localhost:8080/"
        },
        "id": "0irQWkTswI5T",
        "outputId": "5e90ea84-2b82-421a-bbc3-1ecf453991a3"
      },
      "execution_count": 20,
      "outputs": [
        {
          "output_type": "stream",
          "name": "stdout",
          "text": [
            "I Like veggie Pizza it's yummy.\n",
            "I Like Margherita Pizza it's yummy.\n",
            "I Like Hawaiian Pizza it's yummy.\n",
            "I  like  to eat pizza with coke, especially with friends.\n"
          ]
        }
      ]
    },
    {
      "cell_type": "markdown",
      "source": [
        "4-2. Animals: Think of at least three different animals that have a common characteristic. Store the names of these animals in a list, and then use a for loop to print out the name of each animal.\n",
        "\n",
        "Modify your program to print a statement about each animal, such as\n",
        "A dog would make a great pet.\n",
        "\n",
        "Add a line at the end of your program stating what these animals have in\n",
        "common. You could print a sentence such as Any of these animals would make a great pet!"
      ],
      "metadata": {
        "id": "W2PpZUMh50gS"
      }
    },
    {
      "cell_type": "code",
      "source": [
        "pet_list = [\"cat\", \"rabbit\", \"horse\"]\n",
        "\n",
        "for pet in pet_list:\n",
        "  print(\"A \"+pet.title()+\" would make a great pet.\")\n",
        "print(\"\\nAny of these animals would make a great pet!\")"
      ],
      "metadata": {
        "colab": {
          "base_uri": "https://localhost:8080/"
        },
        "id": "e5snd83H58Nb",
        "outputId": "56c0ebf3-ab77-4ef1-ed56-56db3f99cd9e"
      },
      "execution_count": 22,
      "outputs": [
        {
          "output_type": "stream",
          "name": "stdout",
          "text": [
            "A Cat would make a great pet.\n",
            "A Rabbit would make a great pet.\n",
            "A Horse would make a great pet.\n",
            "\n",
            "Any of these animals would make a great pet!\n"
          ]
        }
      ]
    }
  ]
}